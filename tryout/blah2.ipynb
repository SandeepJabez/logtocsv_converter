{
 "cells": [
  {
   "cell_type": "code",
   "execution_count": null,
   "metadata": {},
   "outputs": [],
   "source": [
    "# algorithm\n",
    "# there is 200 gb in total\n",
    "\n",
    "total=200\n",
    "\n",
    "machine1=0\n",
    "machine2=0\n",
    "\n",
    "# the total can always be divided by 2 and shared between two machines\n",
    "# so we can always start with 100 gb on each machine\n",
    "# it can be only allocated to machine 1\n",
    "def allocate(total,allocate):\n",
    "    global machine1\n",
    "    global machine2\n",
    "    print(\"allocate\",allocate)\n",
    "    print(\"available for machine1\")\n"
   ]
  }
 ],
 "metadata": {
  "language_info": {
   "name": "python"
  },
  "orig_nbformat": 4
 },
 "nbformat": 4,
 "nbformat_minor": 2
}

#hi

