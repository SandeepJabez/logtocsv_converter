{
 "cells": [
  {
   "attachments": {},
   "cell_type": "markdown",
   "metadata": {},
   "source": [
    "# Reinforcement Learning Basics"
   ]
  },
  {
   "cell_type": "code",
   "execution_count": 1,
   "metadata": {},
   "outputs": [
    {
     "ename": "IndexError",
     "evalue": "only integers, slices (`:`), ellipsis (`...`), numpy.newaxis (`None`) and integer or boolean arrays are valid indices",
     "output_type": "error",
     "traceback": [
      "\u001b[0;31m---------------------------------------------------------------------------\u001b[0m",
      "\u001b[0;31mIndexError\u001b[0m                                Traceback (most recent call last)",
      "Cell \u001b[0;32mIn[1], line 22\u001b[0m\n\u001b[1;32m     19\u001b[0m done \u001b[39m=\u001b[39m \u001b[39mFalse\u001b[39;00m\n\u001b[1;32m     20\u001b[0m \u001b[39mwhile\u001b[39;00m \u001b[39mnot\u001b[39;00m done:\n\u001b[1;32m     21\u001b[0m \t\u001b[39m# Choose an action\u001b[39;00m\n\u001b[0;32m---> 22\u001b[0m \taction \u001b[39m=\u001b[39m np\u001b[39m.\u001b[39margmax(q_table[state, :] \u001b[39m+\u001b[39m np\u001b[39m.\u001b[39mrandom\u001b[39m.\u001b[39mrandn(\u001b[39m1\u001b[39m, action_size) \u001b[39m*\u001b[39m (\u001b[39m1.\u001b[39m \u001b[39m/\u001b[39m (episode \u001b[39m+\u001b[39m \u001b[39m1\u001b[39m)))\n\u001b[1;32m     24\u001b[0m \t\u001b[39m# Take the action and observe the new state and reward\u001b[39;00m\n\u001b[1;32m     25\u001b[0m \tnext_state, reward, done, _ \u001b[39m=\u001b[39m env\u001b[39m.\u001b[39mstep(action)\n",
      "\u001b[0;31mIndexError\u001b[0m: only integers, slices (`:`), ellipsis (`...`), numpy.newaxis (`None`) and integer or boolean arrays are valid indices"
     ]
    }
   ],
   "source": [
    "import gym\n",
    "import numpy as np\n",
    "#env\n",
    "env = gym.make('FrozenLake-v1')\n",
    "\n",
    "\n",
    "state_size = 16\n",
    "action_size = 4\n",
    "num_episodes = 10000\n",
    "\n",
    "# Define the Q-table and learning rate\n",
    "q_table = np.zeros((state_size, action_size))\n",
    "alpha = 0.8\n",
    "gamma = 0.95\n",
    "\n",
    "# Train the Q-Learning algorithm\n",
    "for episode in range(num_episodes):\n",
    "\tstate = env.reset()\n",
    "\tdone = False\n",
    "\twhile not done:\n",
    "\t\t# Choose an action\n",
    "\t\taction = np.argmax(q_table[state, :] + np.random.randn(1, action_size) * (1. / (episode + 1)))\n",
    "\n",
    "\t\t# Take the action and observe the new state and reward\n",
    "\t\tnext_state, reward, done, _ = env.step(action)\n",
    "\n",
    "\t\t# Update the Q-table\n",
    "\t\tq_table[state, action] = (1 - alpha) * q_table[state, action] + alpha * (reward + gamma * np.max(q_table[next_state, :]))\n",
    "\n",
    "\t\tstate = next_state\n",
    "\n",
    "# Test the trained Q-Learning algorithm\n",
    "state = env.reset()\n",
    "done = False\n",
    "while not done:\n",
    "\t# Choose an action\n",
    "\taction = np.argmax(q_table[state, :])\n",
    "\n",
    "\t# Take the action\n",
    "\tstate, reward, done, _ = env.step(action)\n",
    "\tenv.render()\n"
   ]
  }
 ],
 "metadata": {
  "kernelspec": {
   "display_name": "Python 3",
   "language": "python",
   "name": "python3"
  },
  "language_info": {
   "codemirror_mode": {
    "name": "ipython",
    "version": 3
   },
   "file_extension": ".py",
   "mimetype": "text/x-python",
   "name": "python",
   "nbconvert_exporter": "python",
   "pygments_lexer": "ipython3",
   "version": "3.10.6"
  },
  "orig_nbformat": 4,
  "vscode": {
   "interpreter": {
    "hash": "916dbcbb3f70747c44a77c7bcd40155683ae19c65e1c03b4aa3499c5328201f1"
   }
  }
 },
 "nbformat": 4,
 "nbformat_minor": 2
}
