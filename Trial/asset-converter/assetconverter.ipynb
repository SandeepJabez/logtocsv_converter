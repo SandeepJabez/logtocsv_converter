{
 "cells": [
  {
   "cell_type": "code",
   "execution_count": null,
   "metadata": {},
   "outputs": [],
   "source": [
    "import csv\n",
    "import os\n",
    "import hashlib\n",
    "import gzip\n",
    "import tkinter as tk\n",
    "from tkinter import filedialog\n",
    "\n",
    "class LogConverterGUI:\n",
    "    def __init__(self, master):\n",
    "        self.master = master\n",
    "        master.title(\"Log Converter\")\n",
    "\n",
    "        # Create input file selection button\n",
    "        self.input_files_button = tk.Button(master, text=\"Select input files\", command=self.select_input_files)\n",
    "        self.input_files_button.pack(padx=10, pady=10)\n",
    "\n",
    "        # Create output file selection button\n",
    "        self.output_file_button = tk.Button(master, text=\"Select output file\", command=self.select_output_file)\n",
    "        self.output_file_button.pack(padx=10, pady=10)\n",
    "\n",
    "        # Create conversion button\n",
    "        self.convert_button = tk.Button(master, text=\"Convert\", command=self.convert)\n",
    "        self.convert_button.pack(padx=10, pady=10)\n"
   ]
  }
 ],
 "metadata": {
  "language_info": {
   "name": "python"
  },
  "orig_nbformat": 4
 },
 "nbformat": 4,
 "nbformat_minor": 2
}
